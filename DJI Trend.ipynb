{
 "cells": [
  {
   "cell_type": "code",
   "execution_count": 2,
   "metadata": {},
   "outputs": [],
   "source": [
    "import pandas as pd\n",
    "import matplotlib.pyplot as plt"
   ]
  },
  {
   "cell_type": "code",
   "execution_count": 3,
   "metadata": {},
   "outputs": [
    {
     "data": {
      "text/html": [
       "<div>\n",
       "<style scoped>\n",
       "    .dataframe tbody tr th:only-of-type {\n",
       "        vertical-align: middle;\n",
       "    }\n",
       "\n",
       "    .dataframe tbody tr th {\n",
       "        vertical-align: top;\n",
       "    }\n",
       "\n",
       "    .dataframe thead th {\n",
       "        text-align: right;\n",
       "    }\n",
       "</style>\n",
       "<table border=\"1\" class=\"dataframe\">\n",
       "  <thead>\n",
       "    <tr style=\"text-align: right;\">\n",
       "      <th></th>\n",
       "      <th>Date</th>\n",
       "      <th>Open</th>\n",
       "      <th>High</th>\n",
       "      <th>Low</th>\n",
       "      <th>Close</th>\n",
       "      <th>Adj Close</th>\n",
       "      <th>Volume</th>\n",
       "    </tr>\n",
       "  </thead>\n",
       "  <tbody>\n",
       "    <tr>\n",
       "      <th>0</th>\n",
       "      <td>2015-03-16</td>\n",
       "      <td>17751.240234</td>\n",
       "      <td>17988.500000</td>\n",
       "      <td>17751.240234</td>\n",
       "      <td>17977.419922</td>\n",
       "      <td>17977.419922</td>\n",
       "      <td>101760000</td>\n",
       "    </tr>\n",
       "    <tr>\n",
       "      <th>1</th>\n",
       "      <td>2015-03-17</td>\n",
       "      <td>17972.220703</td>\n",
       "      <td>17972.220703</td>\n",
       "      <td>17785.789063</td>\n",
       "      <td>17849.080078</td>\n",
       "      <td>17849.080078</td>\n",
       "      <td>82560000</td>\n",
       "    </tr>\n",
       "    <tr>\n",
       "      <th>2</th>\n",
       "      <td>2015-03-18</td>\n",
       "      <td>17846.800781</td>\n",
       "      <td>18097.119141</td>\n",
       "      <td>17697.519531</td>\n",
       "      <td>18076.189453</td>\n",
       "      <td>18076.189453</td>\n",
       "      <td>130950000</td>\n",
       "    </tr>\n",
       "    <tr>\n",
       "      <th>3</th>\n",
       "      <td>2015-03-19</td>\n",
       "      <td>18072.580078</td>\n",
       "      <td>18072.990234</td>\n",
       "      <td>17934.240234</td>\n",
       "      <td>17959.029297</td>\n",
       "      <td>17959.029297</td>\n",
       "      <td>107820000</td>\n",
       "    </tr>\n",
       "    <tr>\n",
       "      <th>4</th>\n",
       "      <td>2015-03-20</td>\n",
       "      <td>17961.130859</td>\n",
       "      <td>18197.289063</td>\n",
       "      <td>17961.130859</td>\n",
       "      <td>18127.650391</td>\n",
       "      <td>18127.650391</td>\n",
       "      <td>333870000</td>\n",
       "    </tr>\n",
       "  </tbody>\n",
       "</table>\n",
       "</div>"
      ],
      "text/plain": [
       "        Date          Open          High           Low         Close  \\\n",
       "0 2015-03-16  17751.240234  17988.500000  17751.240234  17977.419922   \n",
       "1 2015-03-17  17972.220703  17972.220703  17785.789063  17849.080078   \n",
       "2 2015-03-18  17846.800781  18097.119141  17697.519531  18076.189453   \n",
       "3 2015-03-19  18072.580078  18072.990234  17934.240234  17959.029297   \n",
       "4 2015-03-20  17961.130859  18197.289063  17961.130859  18127.650391   \n",
       "\n",
       "      Adj Close     Volume  \n",
       "0  17977.419922  101760000  \n",
       "1  17849.080078   82560000  \n",
       "2  18076.189453  130950000  \n",
       "3  17959.029297  107820000  \n",
       "4  18127.650391  333870000  "
      ]
     },
     "execution_count": 3,
     "metadata": {},
     "output_type": "execute_result"
    }
   ],
   "source": [
    "data = pd.read_csv('DJI.csv',parse_dates=['Date'])\n",
    "data.head()"
   ]
  },
  {
   "cell_type": "code",
   "execution_count": 4,
   "metadata": {},
   "outputs": [
    {
     "data": {
      "image/png": "[encoded data removed]",
      "text/plain": [
       "<Figure size 432x288 with 1 Axes>"
      ]
     },
     "metadata": {
      "needs_background": "light"
     },
     "output_type": "display_data"
    }
   ],
   "source": [
    "data.plot(x='Date', y='Adj Close', kind='bar')\n",
    "plt.show()"
   ]
  }
 ],
 "metadata": {
  "kernelspec": {
   "display_name": "Python 3",
   "language": "python",
   "name": "python3"
  },
  "language_info": {
   "codemirror_mode": {
    "name": "ipython",
    "version": 3
   },
   "file_extension": ".py",
   "mimetype": "text/x-python",
   "name": "python",
   "nbconvert_exporter": "python",
   "pygments_lexer": "ipython3",
   "version": "3.7.6"
  }
 },
 "nbformat": 4,
 "nbformat_minor": 4
}
